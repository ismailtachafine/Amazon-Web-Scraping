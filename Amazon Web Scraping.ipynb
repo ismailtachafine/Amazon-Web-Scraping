{
 "cells": [
  {
   "cell_type": "code",
   "execution_count": 1,
   "metadata": {},
   "outputs": [],
   "source": [
    "from bs4 import BeautifulSoup\n",
    "import requests\n",
    "import pandas as pd\n",
    "import numpy as np"
   ]
  },
  {
   "cell_type": "code",
   "execution_count": 2,
   "metadata": {},
   "outputs": [],
   "source": [
    "URL = \"https://www.amazon.com/s?k=playstation+5&crid=FEUL948T3EH5&sprefix=playstation%2Caps%2C170&ref=nb_sb_ss_ts-doa-p_1_11\""
   ]
  },
  {
   "cell_type": "code",
   "execution_count": 3,
   "metadata": {},
   "outputs": [],
   "source": [
    "HEADERS = ({'User-Agent' : 'Mozilla/5.0 (Windows NT 10.0; Win64; x64) AppleWebKit/537.36 (KHTML, like Gecko) Chrome/112.0.0.0 Safari/537.36 OPR/98.0.0.0', 'Accept-Language' : 'en-US, en;q=0.5'})"
   ]
  },
  {
   "cell_type": "code",
   "execution_count": 4,
   "metadata": {},
   "outputs": [],
   "source": [
    "webpage = requests.get(URL, headers=HEADERS)"
   ]
  },
  {
   "cell_type": "code",
   "execution_count": 5,
   "metadata": {},
   "outputs": [
    {
     "data": {
      "text/plain": [
       "<Response [200]>"
      ]
     },
     "execution_count": 5,
     "metadata": {},
     "output_type": "execute_result"
    }
   ],
   "source": [
    "webpage"
   ]
  },
  {
   "cell_type": "code",
   "execution_count": 6,
   "metadata": {},
   "outputs": [
    {
     "data": {
      "text/plain": [
       "bytes"
      ]
     },
     "execution_count": 6,
     "metadata": {},
     "output_type": "execute_result"
    }
   ],
   "source": [
    "type(webpage.content)"
   ]
  },
  {
   "cell_type": "code",
   "execution_count": 7,
   "metadata": {},
   "outputs": [],
   "source": [
    "soup = BeautifulSoup(webpage.content, 'html.parser')"
   ]
  },
  {
   "cell_type": "code",
   "execution_count": 8,
   "metadata": {},
   "outputs": [],
   "source": [
    "links = soup.find_all('a', attrs={'class': 'a-link-normal s-underline-text s-underline-link-text s-link-style a-text-normal'})"
   ]
  },
  {
   "cell_type": "code",
   "execution_count": 9,
   "metadata": {},
   "outputs": [
    {
     "data": {
      "text/plain": [
       "[<a class=\"a-link-normal s-underline-text s-underline-link-text s-link-style a-text-normal\" href=\"/gp/slredirect/picassoRedirect.html/ref=pa_sp_atf_aps_sr_pg1_1?ie=UTF8&amp;adId=A0145032YS1S1IKLRL9H&amp;qualifier=1685797722&amp;id=2328702246855307&amp;widgetName=sp_atf&amp;url=%2FFinal-Fantasy-XVI-Deluxe-PlayStation-5%2Fdp%2FB0BPMTK4TF%2Fref%3Dsr_1_1_sspa%3Fcrid%3DFEUL948T3EH5%26keywords%3Dplaystation%2B5%26qid%3D1685797722%26sprefix%3Dplaystation%252Caps%252C170%26sr%3D8-1-spons%26psc%3D1\"><span class=\"a-size-medium a-color-base a-text-normal\">Final Fantasy XVI: Deluxe Edition - PlayStation 5</span> </a>,\n",
       " <a class=\"a-link-normal s-underline-text s-underline-link-text s-link-style a-text-normal\" href=\"/PlayStation-5-Console-CFI-1215A01X/dp/B0BCNKKZ91/ref=sr_1_2?crid=FEUL948T3EH5&amp;keywords=playstation+5&amp;qid=1685797722&amp;sprefix=playstation%2Caps%2C170&amp;sr=8-2\"><span class=\"a-size-medium a-color-base a-text-normal\">PlayStation 5 Console (PS5)</span> </a>,\n",
       " <a class=\"a-link-normal s-underline-text s-underline-link-text s-link-style a-text-normal\" href=\"/PlayStation-Pulse-3D-Wireless-Headset/dp/B08H99878P/ref=sr_1_3?crid=FEUL948T3EH5&amp;keywords=playstation+5&amp;qid=1685797722&amp;sprefix=playstation%2Caps%2C170&amp;sr=8-3\"><span class=\"a-size-medium a-color-base a-text-normal\">PlayStation 5 Pulse 3D Wireless Headset</span> </a>,\n",
       " <a class=\"a-link-normal s-underline-text s-underline-link-text s-link-style a-text-normal\" href=\"/PlayStation-5-Console/dp/B09DFCB66S/ref=sr_1_4?crid=FEUL948T3EH5&amp;keywords=playstation+5&amp;qid=1685797722&amp;sprefix=playstation%2Caps%2C170&amp;sr=8-4\"><span class=\"a-size-medium a-color-base a-text-normal\">PlayStation 5 Console CFI-1102A</span> </a>,\n",
       " <a class=\"a-link-normal s-underline-text s-underline-link-text s-link-style a-text-normal\" href=\"/FIFA-Standard-Playstation-English-Region-5/dp/B0B6CFX35R/ref=sr_1_5?crid=FEUL948T3EH5&amp;keywords=playstation+5&amp;qid=1685797722&amp;sprefix=playstation%2Caps%2C170&amp;sr=8-5\"><span class=\"a-size-medium a-color-base a-text-normal\">FIFA 23 Standard Edition Playstation 5 (PS5)| English | Import Region Free</span> </a>,\n",
       " <a class=\"a-link-normal s-underline-text s-underline-link-text s-link-style a-text-normal\" href=\"/PlayStation-5-Digital/dp/B08FC6MR62/ref=sr_1_6?crid=FEUL948T3EH5&amp;keywords=playstation+5&amp;qid=1685797722&amp;sprefix=playstation%2Caps%2C170&amp;sr=8-6\"><span class=\"a-size-medium a-color-base a-text-normal\">PlayStation 5 Digital Edition</span> </a>,\n",
       " <a class=\"a-link-normal s-underline-text s-underline-link-text s-link-style a-text-normal\" href=\"/PlayStation-Fighting-Street-Fighter-Gaming-Console/dp/B0BZQKCFSD/ref=sr_1_7?crid=FEUL948T3EH5&amp;keywords=playstation+5&amp;qid=1685797722&amp;sprefix=playstation%2Caps%2C170&amp;sr=8-7\"><span class=\"a-size-medium a-color-base a-text-normal\">HORI PlayStation 5 Fighting Stick Alpha (Street Fighter 6 Edition) - Tournament Grade Fightstick for PS5, PS4, PC - Officially Licensed by Sony</span> </a>,\n",
       " <a class=\"a-link-normal s-underline-text s-underline-link-text s-link-style a-text-normal\" href=\"/WD_BLACK-SN850-Consoles-Solid-Heatsink/dp/B0B4SWQ39Y/ref=sr_1_8?crid=FEUL948T3EH5&amp;keywords=playstation+5&amp;qid=1685797722&amp;sprefix=playstation%2Caps%2C170&amp;sr=8-8\"><span class=\"a-size-medium a-color-base a-text-normal\">WD_BLACK 2TB SN850 NVMe SSD for PS5 Consoles Solid State Drive with Heatsink - Gen4 PCIe, M.2 2280, Up to 7,000 MB/s - WDBBKW0020BBK-WRSN</span> </a>,\n",
       " <a class=\"a-link-normal s-underline-text s-underline-link-text s-link-style a-text-normal\" href=\"/PlayStation-DualSense-Wireless-Controller-Starlight-Blue/dp/B09NLJGTHL/ref=sr_1_9?crid=FEUL948T3EH5&amp;keywords=playstation+5&amp;qid=1685797722&amp;sprefix=playstation%2Caps%2C170&amp;sr=8-9\"><span class=\"a-size-medium a-color-base a-text-normal\">PlayStation DualSense Wireless Controller - Starlight Blue - PlayStation 5</span> </a>,\n",
       " <a class=\"a-link-normal s-underline-text s-underline-link-text s-link-style a-text-normal\" href=\"/Corsair-MP600-NVMe-PCIe-Gen4/dp/B09Q2NCFS7/ref=sr_1_10?crid=FEUL948T3EH5&amp;keywords=playstation+5&amp;qid=1685797722&amp;sprefix=playstation%2Caps%2C170&amp;sr=8-10\"><span class=\"a-size-medium a-color-base a-text-normal\">Corsair MP600 PRO LPX 2TB M.2 NVMe PCIe x4 Gen4 SSD - Optimized for PS5 (Up to 7,100MB/sec Sequential Read &amp; 6,800MB/sec Sequential Write Speeds, High-Speed Interface, Compact Form Factor) Black</span> </a>,\n",
       " <a class=\"a-link-normal s-underline-text s-underline-link-text s-link-style a-text-normal\" href=\"/BINNUNE-Microphone-Playstation-Bluetooth-Headphones/dp/B0BRLW92LW/ref=sr_1_11?crid=FEUL948T3EH5&amp;keywords=playstation+5&amp;qid=1685797722&amp;sprefix=playstation%2Caps%2C170&amp;sr=8-11\"><span class=\"a-size-medium a-color-base a-text-normal\">BINNUNE Dual Wireless Gaming Headset with Microphone for PC PS4 PS5 Playstation 4 5, 2.4G Wireless Bluetooth USB Gamer Headphones with Mic for Laptop Computer</span> </a>,\n",
       " <a class=\"a-link-normal s-underline-text s-underline-link-text s-link-style a-text-normal\" href=\"/gp/slredirect/picassoRedirect.html/ref=pa_sp_mtf_aps_sr_pg1_1?ie=UTF8&amp;adId=A0612290GGKSZW6HMM79&amp;qualifier=1685797722&amp;id=2328702246855307&amp;widgetName=sp_mtf&amp;url=%2FVertical-Cooling-PlayStation-Charging-Organizer-5%2Fdp%2FB0922VG48L%2Fref%3Dsr_1_12_sspa%3Fcrid%3DFEUL948T3EH5%26keywords%3Dplaystation%2B5%26qid%3D1685797722%26sprefix%3Dplaystation%252Caps%252C170%26sr%3D8-12-spons%26psc%3D1\"><span class=\"a-size-medium a-color-base a-text-normal\">Geliebt Lynn PlayStation 5 Cooling Stand for PS5 Digital &amp; PS5 Disc, PS5 Controller Charging Station with Headset Holder and 15 Game Slots</span> </a>,\n",
       " <a class=\"a-link-normal s-underline-text s-underline-link-text s-link-style a-text-normal\" href=\"/PS5-Cooling-CODOGOY-Station-Accessories/dp/B0B8XLNBJM/ref=sr_1_13?crid=FEUL948T3EH5&amp;keywords=playstation+5&amp;qid=1685797722&amp;sprefix=playstation%2Caps%2C170&amp;sr=8-13\"><span class=\"a-size-medium a-color-base a-text-normal\">CODOGOY PS5 Stand with 2 Cooling Fan, Dual Fast PS5 Controller Charging Station with Games Storage, PS5 Cooling Station PS5 Accessories Vertical Stand for Sony Playstation 5 Disc &amp; Digital Editions</span> </a>,\n",
       " <a class=\"a-link-normal s-underline-text s-underline-link-text s-link-style a-text-normal\" href=\"/PowerA-Ultra-PlayStation-officially-licensed-5/dp/B09F6WF4JD/ref=sr_1_14?crid=FEUL948T3EH5&amp;keywords=playstation+5&amp;qid=1685797722&amp;sprefix=playstation%2Caps%2C170&amp;sr=8-14\"><span class=\"a-size-medium a-color-base a-text-normal\">PowerA Ultra High Speed HDMI Cable for PlayStation 5, cable, HDMI 2.1, PS5, officially licensed</span> </a>,\n",
       " <a class=\"a-link-normal s-underline-text s-underline-link-text s-link-style a-text-normal\" href=\"/Hot-Wheels-Unleashed-Turbocharged-PlayStation-5/dp/B0C6R8PY5K/ref=sr_1_15?crid=FEUL948T3EH5&amp;keywords=playstation+5&amp;qid=1685797722&amp;sprefix=playstation%2Caps%2C170&amp;sr=8-15\"><span class=\"a-size-medium a-color-base a-text-normal\">Hot Wheels Unleashed 2: Turbocharged - PlayStation 5</span> </a>,\n",
       " <a class=\"a-link-normal s-underline-text s-underline-link-text s-link-style a-text-normal\" href=\"/PlayStation-Store-Gift-Card-Digital/dp/B004RMK4P8/ref=sr_1_16?crid=FEUL948T3EH5&amp;keywords=playstation+5&amp;qid=1685797722&amp;sprefix=playstation%2Caps%2C170&amp;sr=8-16\"><span class=\"a-size-medium a-color-base a-text-normal\">$50 PlayStation Store Gift Card [Digital Code]</span> </a>,\n",
       " <a class=\"a-link-normal s-underline-text s-underline-link-text s-link-style a-text-normal\" href=\"/gp/slredirect/picassoRedirect.html/ref=pa_sp_mtf_aps_sr_pg1_1?ie=UTF8&amp;adId=A06417042RNVF4ZIT1ALO&amp;qualifier=1685797722&amp;id=2328702246855307&amp;widgetName=sp_mtf&amp;url=%2FDBEPANK-Controller-Charging-Accessories-Playstation%2Fdp%2FB0BXWHZ1QJ%2Fref%3Dsr_1_17_sspa%3Fcrid%3DFEUL948T3EH5%26keywords%3Dplaystation%2B5%26qid%3D1685797722%26sprefix%3Dplaystation%252Caps%252C170%26sr%3D8-17-spons%26psc%3D1\"><span class=\"a-size-medium a-color-base a-text-normal\">DBEPANK PS5 Stand and Cooling Station with Dual Controller Charging Station PS5 Vertical Stand with Headset Holder PS5 Accessories for Playstation 5 Console PS5 Cooling Fan Stand Black</span> </a>,\n",
       " <a class=\"a-link-normal s-underline-text s-underline-link-text s-link-style a-text-normal\" href=\"/Immortals-Aveum-PlayStation-5/dp/B0C26D38SJ/ref=sr_1_18?crid=FEUL948T3EH5&amp;keywords=playstation+5&amp;qid=1685797722&amp;sprefix=playstation%2Caps%2C170&amp;sr=8-18\"><span class=\"a-size-medium a-color-base a-text-normal\">Immortals of Aveum - PlayStation 5</span> </a>,\n",
       " <a class=\"a-link-normal s-underline-text s-underline-link-text s-link-style a-text-normal\" href=\"/Thrustmaster-T300-RS-Racing-Wheel-PlayStation/dp/B01M1L2NRL/ref=sr_1_19?crid=FEUL948T3EH5&amp;keywords=playstation+5&amp;qid=1685797722&amp;sprefix=playstation%2Caps%2C170&amp;sr=8-19\"><span class=\"a-size-medium a-color-base a-text-normal\">Thrustmaster T300 RS - Gran Turismo Edition Racing Wheel (PS5,PS4,PC)</span> </a>,\n",
       " <a class=\"a-link-normal s-underline-text s-underline-link-text s-link-style a-text-normal\" href=\"/gp/slredirect/picassoRedirect.html/ref=pa_sp_search_thematic_aps_sr_pg1_2?ie=UTF8&amp;bwType=search&amp;bwAsin=B06ZXXBLRL&amp;url=%2FPlayStation-Slim-1TB-Console-Certified-Refurbished%2Fdp%2FB06ZXXBLRL%2Fref%3Dsxin_36_pa_sp_search_thematic-asin_sspa%3Fcontent-id%3Damzn1.sym.d074b3e5-7565-422b-8141-ab6213293b98%253Aamzn1.sym.d074b3e5-7565-422b-8141-ab6213293b98%26crid%3DFEUL948T3EH5%26cv_ct_cx%3Dplaystation%2B5%26keywords%3Dplaystation%2B5%26pd_rd_i%3DB06ZXXBLRL%26pd_rd_r%3D806e2a46-7f88-4850-89ae-1f3c3cf9e4e8%26pd_rd_w%3Dewv6F%26pd_rd_wg%3DCSqPE%26pf_rd_p%3Dd074b3e5-7565-422b-8141-ab6213293b98%26pf_rd_r%3DS0H7B7M6X1ZDSGN4YR2H%26qid%3D1685797722%26sbo%3DGW1QB%252BmqAsHTPf1jTZRSDA%253D%253D%26sprefix%3Dplaystation%252Caps%252C170%26sr%3D1-1-bd3335f1-9a43-44b8-9e0c-d4ff41383bf0-spons%26psc%3D1&amp;qualifier=1685797722&amp;id=5155253854578538&amp;widgetName=sp_search_thematic\"><span class=\"a-size-base-plus a-color-base a-text-normal\">PlayStation 4 Slim 1TB Console - Black (Renewed)</span> </a>,\n",
       " <a class=\"a-link-normal s-underline-text s-underline-link-text s-link-style a-text-normal\" href=\"/gp/slredirect/picassoRedirect.html/ref=pa_sp_search_thematic_aps_sr_pg1_3?ie=UTF8&amp;bwType=search&amp;bwAsin=B07KPN9TNY&amp;url=%2FSony-PlayStation-2-Console-Black-Renewed%2Fdp%2FB07KPN9TNY%2Fref%3Dsxin_36_pa_sp_search_thematic-asin_sspa%3Fcontent-id%3Damzn1.sym.d074b3e5-7565-422b-8141-ab6213293b98%253Aamzn1.sym.d074b3e5-7565-422b-8141-ab6213293b98%26crid%3DFEUL948T3EH5%26cv_ct_cx%3Dplaystation%2B5%26keywords%3Dplaystation%2B5%26pd_rd_i%3DB07KPN9TNY%26pd_rd_r%3D806e2a46-7f88-4850-89ae-1f3c3cf9e4e8%26pd_rd_w%3Dewv6F%26pd_rd_wg%3DCSqPE%26pf_rd_p%3Dd074b3e5-7565-422b-8141-ab6213293b98%26pf_rd_r%3DS0H7B7M6X1ZDSGN4YR2H%26qid%3D1685797722%26sbo%3DGW1QB%252BmqAsHTPf1jTZRSDA%253D%253D%26sprefix%3Dplaystation%252Caps%252C170%26sr%3D1-2-bd3335f1-9a43-44b8-9e0c-d4ff41383bf0-spons%26psc%3D1&amp;qualifier=1685797722&amp;id=5155253854578538&amp;widgetName=sp_search_thematic\"><span class=\"a-size-base-plus a-color-base a-text-normal\">Sony PlayStation 2 Console - Black (Renewed)</span> </a>,\n",
       " <a class=\"a-link-normal s-underline-text s-underline-link-text s-link-style a-text-normal\" href=\"/gp/slredirect/picassoRedirect.html/ref=pa_sp_search_thematic_aps_sr_pg1_4?ie=UTF8&amp;bwType=search&amp;bwAsin=B07C88DSHM&amp;url=%2FPlayStation-4-Slim-1TB-Console-Renewed%2Fdp%2FB07C88DSHM%2Fref%3Dsxin_36_pa_sp_search_thematic-asin_sspa%3Fcontent-id%3Damzn1.sym.d074b3e5-7565-422b-8141-ab6213293b98%253Aamzn1.sym.d074b3e5-7565-422b-8141-ab6213293b98%26crid%3DFEUL948T3EH5%26cv_ct_cx%3Dplaystation%2B5%26keywords%3Dplaystation%2B5%26pd_rd_i%3DB07C88DSHM%26pd_rd_r%3D806e2a46-7f88-4850-89ae-1f3c3cf9e4e8%26pd_rd_w%3Dewv6F%26pd_rd_wg%3DCSqPE%26pf_rd_p%3Dd074b3e5-7565-422b-8141-ab6213293b98%26pf_rd_r%3DS0H7B7M6X1ZDSGN4YR2H%26qid%3D1685797722%26sbo%3DGW1QB%252BmqAsHTPf1jTZRSDA%253D%253D%26sprefix%3Dplaystation%252Caps%252C170%26sr%3D1-3-bd3335f1-9a43-44b8-9e0c-d4ff41383bf0-spons%26psc%3D1&amp;qualifier=1685797722&amp;id=5155253854578538&amp;widgetName=sp_search_thematic\"><span class=\"a-size-base-plus a-color-base a-text-normal\">Sony PlayStation 4 Slim Limited Edition 1TB Gaming Console</span> </a>,\n",
       " <a class=\"a-link-normal s-underline-text s-underline-link-text s-link-style a-text-normal\" href=\"/gp/slredirect/picassoRedirect.html/ref=pa_sp_search_thematic_aps_sr_pg1_5?ie=UTF8&amp;bwType=search&amp;bwAsin=B07KPQ2BWQ&amp;url=%2FPlayStation-2-Slim-Console-PS2-Renewed%2Fdp%2FB07KPQ2BWQ%2Fref%3Dsxin_36_pa_sp_search_thematic-asin_sspa%3Fcontent-id%3Damzn1.sym.d074b3e5-7565-422b-8141-ab6213293b98%253Aamzn1.sym.d074b3e5-7565-422b-8141-ab6213293b98%26crid%3DFEUL948T3EH5%26cv_ct_cx%3Dplaystation%2B5%26keywords%3Dplaystation%2B5%26pd_rd_i%3DB07KPQ2BWQ%26pd_rd_r%3D806e2a46-7f88-4850-89ae-1f3c3cf9e4e8%26pd_rd_w%3Dewv6F%26pd_rd_wg%3DCSqPE%26pf_rd_p%3Dd074b3e5-7565-422b-8141-ab6213293b98%26pf_rd_r%3DS0H7B7M6X1ZDSGN4YR2H%26qid%3D1685797722%26sbo%3DGW1QB%252BmqAsHTPf1jTZRSDA%253D%253D%26sprefix%3Dplaystation%252Caps%252C170%26sr%3D1-4-bd3335f1-9a43-44b8-9e0c-d4ff41383bf0-spons%26psc%3D1&amp;qualifier=1685797722&amp;id=5155253854578538&amp;widgetName=sp_search_thematic\"><span class=\"a-size-base-plus a-color-base a-text-normal\">PlayStation 2 Slim Console PS2 (Renewed)</span> </a>,\n",
       " <a class=\"a-link-normal s-underline-text s-underline-link-text s-link-style a-text-normal\" href=\"/gp/slredirect/picassoRedirect.html/ref=pa_sp_search_thematic_aps_sr_pg1_6?ie=UTF8&amp;bwType=search&amp;bwAsin=B07LB3WJFP&amp;url=%2FPlaystation-System-CUH-2215AB01-3003347-Renewed%2Fdp%2FB07LB3WJFP%2Fref%3Dsxin_36_pa_sp_search_thematic-asin_sspa%3Fcontent-id%3Damzn1.sym.d074b3e5-7565-422b-8141-ab6213293b98%253Aamzn1.sym.d074b3e5-7565-422b-8141-ab6213293b98%26crid%3DFEUL948T3EH5%26cv_ct_cx%3Dplaystation%2B5%26keywords%3Dplaystation%2B5%26pd_rd_i%3DB07LB3WJFP%26pd_rd_r%3D806e2a46-7f88-4850-89ae-1f3c3cf9e4e8%26pd_rd_w%3Dewv6F%26pd_rd_wg%3DCSqPE%26pf_rd_p%3Dd074b3e5-7565-422b-8141-ab6213293b98%26pf_rd_r%3DS0H7B7M6X1ZDSGN4YR2H%26qid%3D1685797722%26sprefix%3Dplaystation%252Caps%252C170%26sr%3D1-5-bd3335f1-9a43-44b8-9e0c-d4ff41383bf0-spons%26psc%3D1&amp;qualifier=1685797722&amp;id=5155253854578538&amp;widgetName=sp_search_thematic\"><span class=\"a-size-base-plus a-color-base a-text-normal\">Playstation SONY 4, 500GB Slim System [CUH-2215AB01], Black, 3003347 (Renewed)</span> </a>,\n",
       " <a class=\"a-link-normal s-underline-text s-underline-link-text s-link-style a-text-normal\" href=\"/gp/slredirect/picassoRedirect.html/ref=pa_sp_search_thematic_aps_sr_pg1_7?ie=UTF8&amp;bwType=search&amp;bwAsin=B07DHTN9LQ&amp;url=%2FPlaystation-Console-Black-Certified-Refurbished-Pc%2Fdp%2FB07DHTN9LQ%2Fref%3Dsxin_36_pa_sp_search_thematic-asin_sspa%3Fcontent-id%3Damzn1.sym.d074b3e5-7565-422b-8141-ab6213293b98%253Aamzn1.sym.d074b3e5-7565-422b-8141-ab6213293b98%26crid%3DFEUL948T3EH5%26cv_ct_cx%3Dplaystation%2B5%26keywords%3Dplaystation%2B5%26pd_rd_i%3DB07DHTN9LQ%26pd_rd_r%3D806e2a46-7f88-4850-89ae-1f3c3cf9e4e8%26pd_rd_w%3Dewv6F%26pd_rd_wg%3DCSqPE%26pf_rd_p%3Dd074b3e5-7565-422b-8141-ab6213293b98%26pf_rd_r%3DS0H7B7M6X1ZDSGN4YR2H%26qid%3D1685797722%26sbo%3DGW1QB%252BmqAsHTPf1jTZRSDA%253D%253D%26sprefix%3Dplaystation%252Caps%252C170%26sr%3D1-6-bd3335f1-9a43-44b8-9e0c-d4ff41383bf0-spons%26psc%3D1&amp;qualifier=1685797722&amp;id=5155253854578538&amp;widgetName=sp_search_thematic\"><span class=\"a-size-base-plus a-color-base a-text-normal\">Playstation 2 Console - Black (Renewed)</span> </a>,\n",
       " <a class=\"a-link-normal s-underline-text s-underline-link-text s-link-style a-text-normal\" href=\"/gp/slredirect/picassoRedirect.html/ref=pa_sp_btf_aps_sr_pg1_1?ie=UTF8&amp;adId=A0830735100ANVD4H6X9&amp;qualifier=1685797722&amp;id=2328702246855307&amp;widgetName=sp_btf&amp;url=%2FStickers-Controller-Waterproof-Accessories-Playstation%2Fdp%2FB0BX99GQ1T%2Fref%3Dsr_1_20_sspa%3Fcrid%3DFEUL948T3EH5%26keywords%3Dplaystation%2B5%26qid%3D1685797722%26sprefix%3Dplaystation%252Caps%252C170%26sr%3D8-20-spons%26psc%3D1\"><span class=\"a-size-medium a-color-base a-text-normal\">Skin Wraps Stickers for PS5 Disc Edition with Console and Controller, No Bubble, Waterproof,Easy Peel and Stick Protect Accessories for Playstation 5</span> </a>,\n",
       " <a class=\"a-link-normal s-underline-text s-underline-link-text s-link-style a-text-normal\" href=\"/gp/slredirect/picassoRedirect.html/ref=pa_sp_btf_aps_sr_pg1_1?ie=UTF8&amp;adId=A05089503MSESXSNRC2VS&amp;qualifier=1685797722&amp;id=2328702246855307&amp;widgetName=sp_btf&amp;url=%2FCompany-Heroes-Console-Launch-PlayStation-5%2Fdp%2FB0C2QS61M6%2Fref%3Dsr_1_21_sspa%3Fcrid%3DFEUL948T3EH5%26keywords%3Dplaystation%2B5%26qid%3D1685797722%26sprefix%3Dplaystation%252Caps%252C170%26sr%3D8-21-spons%26psc%3D1\"><span class=\"a-size-medium a-color-base a-text-normal\">Company of Heroes 3: Console Launch Edition - PlayStation 5</span> </a>,\n",
       " <a class=\"a-link-normal s-underline-text s-underline-link-text s-link-style a-text-normal\" href=\"/gp/slredirect/picassoRedirect.html/ref=pa_sp_btf_aps_sr_pg1_1?ie=UTF8&amp;adId=A07649433U1K7OHH72AQA&amp;qualifier=1685797722&amp;id=2328702246855307&amp;widgetName=sp_btf&amp;url=%2FBluetooth-Playstation-Headphones-Detachable-Microphone%2Fdp%2FB0B1DGVK19%2Fref%3Dsr_1_22_sspa%3Fcrid%3DFEUL948T3EH5%26keywords%3Dplaystation%2B5%26qid%3D1685797722%26sprefix%3Dplaystation%252Caps%252C170%26sr%3D8-22-spons%26psc%3D1\"><span class=\"a-size-medium a-color-base a-text-normal\">2.4GHz/Bluetooth Wireless Gaming Headset for PlayStation 5 4, Gamer Headphones with Detachable Microphone for PS5, PS4, PC, Switch, Ultra-low Latency, 30 Hours Playtime, Wired Mode for Xbox Series</span> </a>]"
      ]
     },
     "execution_count": 9,
     "metadata": {},
     "output_type": "execute_result"
    }
   ],
   "source": [
    "links"
   ]
  },
  {
   "cell_type": "code",
   "execution_count": 10,
   "metadata": {},
   "outputs": [
    {
     "data": {
      "text/plain": [
       "<a class=\"a-link-normal s-underline-text s-underline-link-text s-link-style a-text-normal\" href=\"/gp/slredirect/picassoRedirect.html/ref=pa_sp_atf_aps_sr_pg1_1?ie=UTF8&amp;adId=A0145032YS1S1IKLRL9H&amp;qualifier=1685797722&amp;id=2328702246855307&amp;widgetName=sp_atf&amp;url=%2FFinal-Fantasy-XVI-Deluxe-PlayStation-5%2Fdp%2FB0BPMTK4TF%2Fref%3Dsr_1_1_sspa%3Fcrid%3DFEUL948T3EH5%26keywords%3Dplaystation%2B5%26qid%3D1685797722%26sprefix%3Dplaystation%252Caps%252C170%26sr%3D8-1-spons%26psc%3D1\"><span class=\"a-size-medium a-color-base a-text-normal\">Final Fantasy XVI: Deluxe Edition - PlayStation 5</span> </a>"
      ]
     },
     "execution_count": 10,
     "metadata": {},
     "output_type": "execute_result"
    }
   ],
   "source": [
    "links[0]"
   ]
  },
  {
   "cell_type": "code",
   "execution_count": 11,
   "metadata": {},
   "outputs": [],
   "source": [
    "link = links[0].get('href')"
   ]
  },
  {
   "cell_type": "code",
   "execution_count": 12,
   "metadata": {},
   "outputs": [],
   "source": [
    "product_list = \"https://amazon.com\" + link"
   ]
  },
  {
   "cell_type": "code",
   "execution_count": 13,
   "metadata": {},
   "outputs": [
    {
     "data": {
      "text/plain": [
       "'https://amazon.com/gp/slredirect/picassoRedirect.html/ref=pa_sp_atf_aps_sr_pg1_1?ie=UTF8&adId=A0145032YS1S1IKLRL9H&qualifier=1685797722&id=2328702246855307&widgetName=sp_atf&url=%2FFinal-Fantasy-XVI-Deluxe-PlayStation-5%2Fdp%2FB0BPMTK4TF%2Fref%3Dsr_1_1_sspa%3Fcrid%3DFEUL948T3EH5%26keywords%3Dplaystation%2B5%26qid%3D1685797722%26sprefix%3Dplaystation%252Caps%252C170%26sr%3D8-1-spons%26psc%3D1'"
      ]
     },
     "execution_count": 13,
     "metadata": {},
     "output_type": "execute_result"
    }
   ],
   "source": [
    "product_list"
   ]
  },
  {
   "cell_type": "code",
   "execution_count": 14,
   "metadata": {},
   "outputs": [],
   "source": [
    "new_webpage = requests.get(product_list, headers=HEADERS)"
   ]
  },
  {
   "cell_type": "code",
   "execution_count": 15,
   "metadata": {},
   "outputs": [
    {
     "data": {
      "text/plain": [
       "<Response [200]>"
      ]
     },
     "execution_count": 15,
     "metadata": {},
     "output_type": "execute_result"
    }
   ],
   "source": [
    "new_webpage"
   ]
  },
  {
   "cell_type": "code",
   "execution_count": 16,
   "metadata": {},
   "outputs": [],
   "source": [
    "new_soup = BeautifulSoup(new_webpage.content, 'html.parser')"
   ]
  },
  {
   "cell_type": "code",
   "execution_count": 17,
   "metadata": {},
   "outputs": [
    {
     "data": {
      "text/plain": [
       "<span class=\"a-size-large product-title-word-break\" id=\"productTitle\">        Final Fantasy XVI: Deluxe Edition - PlayStation 5       </span>"
      ]
     },
     "execution_count": 17,
     "metadata": {},
     "output_type": "execute_result"
    }
   ],
   "source": [
    "new_soup.find(\"span\", attrs={\"id\": \"productTitle\"})"
   ]
  },
  {
   "cell_type": "code",
   "execution_count": 18,
   "metadata": {},
   "outputs": [
    {
     "data": {
      "text/plain": [
       "'        Final Fantasy XVI: Deluxe Edition - PlayStation 5       '"
      ]
     },
     "execution_count": 18,
     "metadata": {},
     "output_type": "execute_result"
    }
   ],
   "source": [
    "new_soup.find(\"span\", attrs={\"id\": \"productTitle\"}).text"
   ]
  },
  {
   "cell_type": "code",
   "execution_count": 19,
   "metadata": {},
   "outputs": [
    {
     "data": {
      "text/plain": [
       "'Final Fantasy XVI: Deluxe Edition - PlayStation 5'"
      ]
     },
     "execution_count": 19,
     "metadata": {},
     "output_type": "execute_result"
    }
   ],
   "source": [
    "new_soup.find(\"span\", attrs={\"id\": \"productTitle\"}).text.strip()"
   ]
  },
  {
   "cell_type": "code",
   "execution_count": 20,
   "metadata": {},
   "outputs": [
    {
     "data": {
      "text/plain": [
       "'Final Fantasy XVI: Deluxe Edition - PlayStation 5'"
      ]
     },
     "execution_count": 20,
     "metadata": {},
     "output_type": "execute_result"
    }
   ],
   "source": [
    "new_soup.find(\"span\", attrs={\"id\": \"productTitle\"}).text.strip()"
   ]
  },
  {
   "cell_type": "code",
   "execution_count": 21,
   "metadata": {},
   "outputs": [
    {
     "data": {
      "text/plain": [
       "'$99.99'"
      ]
     },
     "execution_count": 21,
     "metadata": {},
     "output_type": "execute_result"
    }
   ],
   "source": [
    "new_soup.find(\"span\", attrs={\"class\": \"a-offscreen\"}).text"
   ]
  },
  {
   "cell_type": "code",
   "execution_count": 22,
   "metadata": {},
   "outputs": [
    {
     "data": {
      "text/plain": [
       "'Previous page of related Sponsored Products'"
      ]
     },
     "execution_count": 22,
     "metadata": {},
     "output_type": "execute_result"
    }
   ],
   "source": [
    "new_soup.find(\"span\", attrs={\"class\": \"a-icon-alt\"}).text"
   ]
  },
  {
   "cell_type": "code",
   "execution_count": 26,
   "metadata": {},
   "outputs": [],
   "source": [
    "# Function to extract Product Title\n",
    "def get_title(soup):\n",
    "\n",
    "    try:\n",
    "        # Outer Tag Object\n",
    "        title = soup.find(\"span\", attrs={\"id\":'productTitle'})\n",
    "        \n",
    "        # Inner NavigatableString Object\n",
    "        title_value = title.text\n",
    "\n",
    "        # Title as a string value\n",
    "        title_string = title_value.strip()\n",
    "\n",
    "    except AttributeError:\n",
    "        title_string = \"\"\n",
    "\n",
    "    return title_string\n",
    "\n",
    "# Function to extract Product Price\n",
    "# def get_price(soup):\n",
    "\n",
    "#     try:\n",
    "#         price = soup.find(\"span\", attrs={'id':'priceblock_ourprice'}).string.strip()\n",
    "\n",
    "#     except AttributeError:\n",
    "\n",
    "#         try:\n",
    "#             # If there is some deal price\n",
    "#             price = soup.find(\"span\", attrs={'id':'priceblock_dealprice'}).string.strip()\n",
    "\n",
    "#         except:\n",
    "#             price = \"\"\n",
    "\n",
    "#     return price\n",
    "\n",
    "def get_price(soup):\n",
    "    return soup.find(\"span\", attrs={\"class\": \"a-offscreen\"}).string.strip()\n",
    "\n",
    "# Function to extract Product Rating\n",
    "def get_rating(soup):\n",
    "\n",
    "    try:\n",
    "        rating = soup.find(\"i\", attrs={'class':'a-icon a-icon-star a-star-4-5'}).string.strip()\n",
    "    \n",
    "    except AttributeError:\n",
    "        try:\n",
    "            rating = soup.find(\"span\", attrs={'class':'a-icon-alt'}).string.strip()\n",
    "        except:\n",
    "            rating = \"\"\t\n",
    "\n",
    "    return rating\n",
    "\n",
    "# Function to extract Number of User Reviews\n",
    "def get_review_count(soup):\n",
    "    try:\n",
    "        review_count = soup.find(\"span\", attrs={'id':'acrCustomerReviewText'}).string.strip()\n",
    "\n",
    "    except AttributeError:\n",
    "        review_count = \"\"\t\n",
    "\n",
    "    return review_count\n",
    "\n",
    "# Function to extract Availability Status\n",
    "def get_availability(soup):\n",
    "    try:\n",
    "        available = soup.find(\"div\", attrs={'id':'availability'})\n",
    "        available = available.find(\"span\").string.strip()\n",
    "\n",
    "    except AttributeError:\n",
    "        available = \"Not Available\"\t\n",
    "\n",
    "    return available"
   ]
  },
  {
   "cell_type": "code",
   "execution_count": 27,
   "metadata": {},
   "outputs": [],
   "source": [
    "if __name__ == '__main__':\n",
    "\n",
    "    # add your user agent \n",
    "    HEADERS = ({'User-Agent' : 'Mozilla/5.0 (Windows NT 10.0; Win64; x64) AppleWebKit/537.36 (KHTML, like Gecko) Chrome/112.0.0.0 Safari/537.36 OPR/98.0.0.0', 'Accept-Language' : 'en-US, en;q=0.5'})\n",
    "\n",
    "    # The webpage URL\n",
    "    URL = \"https://www.amazon.com/s?k=playstation+5&crid=FEUL948T3EH5&sprefix=playstation%2Caps%2C170&ref=nb_sb_ss_ts-doa-p_1_11\"\n",
    "\n",
    "    # HTTP Request\n",
    "    webpage = requests.get(URL, headers=HEADERS)\n",
    "\n",
    "    # Soup Object containing all data\n",
    "    soup = BeautifulSoup(webpage.content, \"html.parser\")\n",
    "\n",
    "    # Fetch links as List of Tag Objects\n",
    "    links = soup.find_all(\"a\", attrs={'class':'a-link-normal s-no-outline'})\n",
    "\n",
    "    # Store the links\n",
    "    links_list = []\n",
    "\n",
    "    # Loop for extracting links from Tag Objects\n",
    "    for link in links:\n",
    "            links_list.append(link.get('href'))\n",
    "\n",
    "    d = {\"title\":[], \"price\":[], \"rating\":[], \"reviews\":[],\"availability\":[]}\n",
    "    \n",
    "    # Loop for extracting product details from each link \n",
    "    for link in links_list:\n",
    "        new_webpage = requests.get(\"https://www.amazon.com\" + link, headers=HEADERS)\n",
    "\n",
    "        new_soup = BeautifulSoup(new_webpage.content, \"html.parser\")\n",
    "\n",
    "        # Function calls to display all necessary product information\n",
    "        d['title'].append(get_title(new_soup))\n",
    "        d['price'].append(get_price(new_soup))\n",
    "        d['rating'].append(get_rating(new_soup))\n",
    "        d['reviews'].append(get_review_count(new_soup))\n",
    "        d['availability'].append(get_availability(new_soup))\n",
    "\n",
    "    \n",
    "    amazon_df = pd.DataFrame.from_dict(d)\n",
    "    amazon_df['title'].replace('', np.nan, inplace=True)\n",
    "    amazon_df = amazon_df.dropna(subset=['title'])\n",
    "    amazon_df.to_csv(\"amazon_data.csv\", header=True, index=False)"
   ]
  },
  {
   "cell_type": "code",
   "execution_count": 25,
   "metadata": {},
   "outputs": [
    {
     "data": {
      "text/html": [
       "<div>\n",
       "<style scoped>\n",
       "    .dataframe tbody tr th:only-of-type {\n",
       "        vertical-align: middle;\n",
       "    }\n",
       "\n",
       "    .dataframe tbody tr th {\n",
       "        vertical-align: top;\n",
       "    }\n",
       "\n",
       "    .dataframe thead th {\n",
       "        text-align: right;\n",
       "    }\n",
       "</style>\n",
       "<table border=\"1\" class=\"dataframe\">\n",
       "  <thead>\n",
       "    <tr style=\"text-align: right;\">\n",
       "      <th></th>\n",
       "      <th>title</th>\n",
       "      <th>price</th>\n",
       "      <th>rating</th>\n",
       "      <th>reviews</th>\n",
       "      <th>availability</th>\n",
       "    </tr>\n",
       "  </thead>\n",
       "  <tbody>\n",
       "    <tr>\n",
       "      <th>0</th>\n",
       "      <td>Final Fantasy XVI: Deluxe Edition - PlayStation 5</td>\n",
       "      <td></td>\n",
       "      <td>Previous page</td>\n",
       "      <td></td>\n",
       "      <td>This item will be released on June 22, 2023.</td>\n",
       "    </tr>\n",
       "    <tr>\n",
       "      <th>1</th>\n",
       "      <td>PlayStation PS5 Console – God of War Ragnarök ...</td>\n",
       "      <td></td>\n",
       "      <td>4.8 out of 5 stars</td>\n",
       "      <td>14,566 ratings</td>\n",
       "      <td>In Stock</td>\n",
       "    </tr>\n",
       "    <tr>\n",
       "      <th>2</th>\n",
       "      <td>PlayStation 5 Pulse 3D Wireless Headset</td>\n",
       "      <td></td>\n",
       "      <td>4.7 out of 5 stars</td>\n",
       "      <td>19,796 ratings</td>\n",
       "      <td>In Stock</td>\n",
       "    </tr>\n",
       "    <tr>\n",
       "      <th>3</th>\n",
       "      <td>PlayStation 5 Console CFI-1102A</td>\n",
       "      <td></td>\n",
       "      <td>4.9 out of 5 stars</td>\n",
       "      <td>7,350 ratings</td>\n",
       "      <td></td>\n",
       "    </tr>\n",
       "    <tr>\n",
       "      <th>4</th>\n",
       "      <td>FIFA 23 Standard Edition Playstation 5 (PS5)| ...</td>\n",
       "      <td></td>\n",
       "      <td>4.7 out of 5 stars</td>\n",
       "      <td>1,621 ratings</td>\n",
       "      <td>Only 8 left in stock - order soon</td>\n",
       "    </tr>\n",
       "    <tr>\n",
       "      <th>5</th>\n",
       "      <td>PlayStation 5 Digital Edition</td>\n",
       "      <td></td>\n",
       "      <td>4.9 out of 5 stars</td>\n",
       "      <td>7,199 ratings</td>\n",
       "      <td></td>\n",
       "    </tr>\n",
       "    <tr>\n",
       "      <th>6</th>\n",
       "      <td>WD_BLACK 2TB SN850 NVMe SSD for PS5 Consoles S...</td>\n",
       "      <td></td>\n",
       "      <td>4.8 out of 5 stars</td>\n",
       "      <td>3,173 ratings</td>\n",
       "      <td>In Stock</td>\n",
       "    </tr>\n",
       "    <tr>\n",
       "      <th>7</th>\n",
       "      <td>PlayStation DualSense Wireless Controller - St...</td>\n",
       "      <td></td>\n",
       "      <td>4.8 out of 5 stars</td>\n",
       "      <td>75,258 ratings</td>\n",
       "      <td>In Stock</td>\n",
       "    </tr>\n",
       "    <tr>\n",
       "      <th>8</th>\n",
       "      <td>Corsair MP600 PRO LPX 2TB M.2 NVMe PCIe x4 Gen...</td>\n",
       "      <td></td>\n",
       "      <td>4.8 out of 5 stars</td>\n",
       "      <td>2,812 ratings</td>\n",
       "      <td>In Stock</td>\n",
       "    </tr>\n",
       "    <tr>\n",
       "      <th>9</th>\n",
       "      <td>BINNUNE Dual Wireless Gaming Headset with Micr...</td>\n",
       "      <td></td>\n",
       "      <td>3.9 out of 5 stars</td>\n",
       "      <td>53 ratings</td>\n",
       "      <td>In Stock</td>\n",
       "    </tr>\n",
       "    <tr>\n",
       "      <th>10</th>\n",
       "      <td>God of War Ragnarök - PlayStation 5</td>\n",
       "      <td></td>\n",
       "      <td>4.8 out of 5 stars</td>\n",
       "      <td>690 ratings</td>\n",
       "      <td>In Stock</td>\n",
       "    </tr>\n",
       "    <tr>\n",
       "      <th>11</th>\n",
       "      <td>Geliebt Lynn PlayStation 5 Cooling Stand for P...</td>\n",
       "      <td></td>\n",
       "      <td>4.3 out of 5 stars</td>\n",
       "      <td>82 ratings</td>\n",
       "      <td>In Stock</td>\n",
       "    </tr>\n",
       "    <tr>\n",
       "      <th>12</th>\n",
       "      <td>PS5 Controller Charger Station with Fast Charg...</td>\n",
       "      <td></td>\n",
       "      <td>4.7 out of 5 stars</td>\n",
       "      <td>14,189 ratings</td>\n",
       "      <td>In Stock</td>\n",
       "    </tr>\n",
       "    <tr>\n",
       "      <th>13</th>\n",
       "      <td>Hot Wheels Unleashed 2: Turbocharged - PlaySta...</td>\n",
       "      <td></td>\n",
       "      <td>Previous page of related Sponsored Products</td>\n",
       "      <td></td>\n",
       "      <td>This item will be released on October 19, 2023.</td>\n",
       "    </tr>\n",
       "    <tr>\n",
       "      <th>14</th>\n",
       "      <td>Logitech G29 Driving Force Racing Wheel and Fl...</td>\n",
       "      <td></td>\n",
       "      <td>4.7 out of 5 stars</td>\n",
       "      <td>16,640 ratings</td>\n",
       "      <td></td>\n",
       "    </tr>\n",
       "    <tr>\n",
       "      <th>15</th>\n",
       "      <td>$50 PlayStation Store Gift Card [Digital Code]</td>\n",
       "      <td></td>\n",
       "      <td>4.7 out of 5 stars</td>\n",
       "      <td>261,830 ratings</td>\n",
       "      <td>Available now</td>\n",
       "    </tr>\n",
       "    <tr>\n",
       "      <th>16</th>\n",
       "      <td>DBEPANK PS5 Stand and Cooling Station with Dua...</td>\n",
       "      <td></td>\n",
       "      <td>4.2 out of 5 stars</td>\n",
       "      <td>18 ratings</td>\n",
       "      <td>In Stock</td>\n",
       "    </tr>\n",
       "    <tr>\n",
       "      <th>17</th>\n",
       "      <td>Xbox Series X – Forza Horizon 5 Bundle</td>\n",
       "      <td></td>\n",
       "      <td>4.8 out of 5 stars</td>\n",
       "      <td>21,902 ratings</td>\n",
       "      <td>Only 1 left in stock - order soon</td>\n",
       "    </tr>\n",
       "    <tr>\n",
       "      <th>18</th>\n",
       "      <td>Immortals of Aveum - PlayStation 5</td>\n",
       "      <td></td>\n",
       "      <td>Previous page of related Sponsored Products</td>\n",
       "      <td></td>\n",
       "      <td>This item will be released on July 20, 2023.</td>\n",
       "    </tr>\n",
       "    <tr>\n",
       "      <th>19</th>\n",
       "      <td>PlayStation 4 Slim 1TB Console - Black (Renewed)</td>\n",
       "      <td></td>\n",
       "      <td>4.4 out of 5 stars</td>\n",
       "      <td>1,265 ratings</td>\n",
       "      <td>Only 4 left in stock - order soon.</td>\n",
       "    </tr>\n",
       "    <tr>\n",
       "      <th>20</th>\n",
       "      <td>Sony PlayStation 2 Console - Black (Renewed)</td>\n",
       "      <td></td>\n",
       "      <td>4.3 out of 5 stars</td>\n",
       "      <td>1,184 ratings</td>\n",
       "      <td></td>\n",
       "    </tr>\n",
       "    <tr>\n",
       "      <th>21</th>\n",
       "      <td>Sony PlayStation 4 Slim Limited Edition 1TB Ga...</td>\n",
       "      <td></td>\n",
       "      <td>4.2 out of 5 stars</td>\n",
       "      <td>1,107 ratings</td>\n",
       "      <td>Only 16 left in stock - order soon.</td>\n",
       "    </tr>\n",
       "    <tr>\n",
       "      <th>22</th>\n",
       "      <td>PlayStation 2 Slim Console PS2 (Renewed)</td>\n",
       "      <td></td>\n",
       "      <td>4.2 out of 5 stars</td>\n",
       "      <td>1,000 ratings</td>\n",
       "      <td>Only 18 left in stock - order soon.</td>\n",
       "    </tr>\n",
       "    <tr>\n",
       "      <th>23</th>\n",
       "      <td>Playstation SONY 4, 500GB Slim System [CUH-221...</td>\n",
       "      <td></td>\n",
       "      <td>4.7 out of 5 stars</td>\n",
       "      <td>352 ratings</td>\n",
       "      <td></td>\n",
       "    </tr>\n",
       "    <tr>\n",
       "      <th>24</th>\n",
       "      <td>Playstation 2 Console - Black (Renewed)</td>\n",
       "      <td></td>\n",
       "      <td>4.2 out of 5 stars</td>\n",
       "      <td>320 ratings</td>\n",
       "      <td>Only 1 left in stock - order soon.</td>\n",
       "    </tr>\n",
       "    <tr>\n",
       "      <th>25</th>\n",
       "      <td>TotalMount Wall Mount for PS5 – Mounts Playsta...</td>\n",
       "      <td></td>\n",
       "      <td>4.8 out of 5 stars</td>\n",
       "      <td>2,529 ratings</td>\n",
       "      <td>In Stock</td>\n",
       "    </tr>\n",
       "    <tr>\n",
       "      <th>26</th>\n",
       "      <td>Company of Heroes 3: Console Launch Edition - ...</td>\n",
       "      <td></td>\n",
       "      <td>Previous page of related Sponsored Products</td>\n",
       "      <td></td>\n",
       "      <td>In Stock</td>\n",
       "    </tr>\n",
       "    <tr>\n",
       "      <th>27</th>\n",
       "      <td>Meseto Wireless Gaming Headset with Microphone...</td>\n",
       "      <td></td>\n",
       "      <td>5.0 out of 5 stars</td>\n",
       "      <td>1 rating</td>\n",
       "      <td>In Stock</td>\n",
       "    </tr>\n",
       "  </tbody>\n",
       "</table>\n",
       "</div>"
      ],
      "text/plain": [
       "                                                title price  \\\n",
       "0   Final Fantasy XVI: Deluxe Edition - PlayStation 5         \n",
       "1   PlayStation PS5 Console – God of War Ragnarök ...         \n",
       "2             PlayStation 5 Pulse 3D Wireless Headset         \n",
       "3                     PlayStation 5 Console CFI-1102A         \n",
       "4   FIFA 23 Standard Edition Playstation 5 (PS5)| ...         \n",
       "5                       PlayStation 5 Digital Edition         \n",
       "6   WD_BLACK 2TB SN850 NVMe SSD for PS5 Consoles S...         \n",
       "7   PlayStation DualSense Wireless Controller - St...         \n",
       "8   Corsair MP600 PRO LPX 2TB M.2 NVMe PCIe x4 Gen...         \n",
       "9   BINNUNE Dual Wireless Gaming Headset with Micr...         \n",
       "10                God of War Ragnarök - PlayStation 5         \n",
       "11  Geliebt Lynn PlayStation 5 Cooling Stand for P...         \n",
       "12  PS5 Controller Charger Station with Fast Charg...         \n",
       "13  Hot Wheels Unleashed 2: Turbocharged - PlaySta...         \n",
       "14  Logitech G29 Driving Force Racing Wheel and Fl...         \n",
       "15     $50 PlayStation Store Gift Card [Digital Code]         \n",
       "16  DBEPANK PS5 Stand and Cooling Station with Dua...         \n",
       "17             Xbox Series X – Forza Horizon 5 Bundle         \n",
       "18                 Immortals of Aveum - PlayStation 5         \n",
       "19   PlayStation 4 Slim 1TB Console - Black (Renewed)         \n",
       "20       Sony PlayStation 2 Console - Black (Renewed)         \n",
       "21  Sony PlayStation 4 Slim Limited Edition 1TB Ga...         \n",
       "22           PlayStation 2 Slim Console PS2 (Renewed)         \n",
       "23  Playstation SONY 4, 500GB Slim System [CUH-221...         \n",
       "24            Playstation 2 Console - Black (Renewed)         \n",
       "25  TotalMount Wall Mount for PS5 – Mounts Playsta...         \n",
       "26  Company of Heroes 3: Console Launch Edition - ...         \n",
       "27  Meseto Wireless Gaming Headset with Microphone...         \n",
       "\n",
       "                                         rating          reviews  \\\n",
       "0                                 Previous page                    \n",
       "1                            4.8 out of 5 stars   14,566 ratings   \n",
       "2                            4.7 out of 5 stars   19,796 ratings   \n",
       "3                            4.9 out of 5 stars    7,350 ratings   \n",
       "4                            4.7 out of 5 stars    1,621 ratings   \n",
       "5                            4.9 out of 5 stars    7,199 ratings   \n",
       "6                            4.8 out of 5 stars    3,173 ratings   \n",
       "7                            4.8 out of 5 stars   75,258 ratings   \n",
       "8                            4.8 out of 5 stars    2,812 ratings   \n",
       "9                            3.9 out of 5 stars       53 ratings   \n",
       "10                           4.8 out of 5 stars      690 ratings   \n",
       "11                           4.3 out of 5 stars       82 ratings   \n",
       "12                           4.7 out of 5 stars   14,189 ratings   \n",
       "13  Previous page of related Sponsored Products                    \n",
       "14                           4.7 out of 5 stars   16,640 ratings   \n",
       "15                           4.7 out of 5 stars  261,830 ratings   \n",
       "16                           4.2 out of 5 stars       18 ratings   \n",
       "17                           4.8 out of 5 stars   21,902 ratings   \n",
       "18  Previous page of related Sponsored Products                    \n",
       "19                           4.4 out of 5 stars    1,265 ratings   \n",
       "20                           4.3 out of 5 stars    1,184 ratings   \n",
       "21                           4.2 out of 5 stars    1,107 ratings   \n",
       "22                           4.2 out of 5 stars    1,000 ratings   \n",
       "23                           4.7 out of 5 stars      352 ratings   \n",
       "24                           4.2 out of 5 stars      320 ratings   \n",
       "25                           4.8 out of 5 stars    2,529 ratings   \n",
       "26  Previous page of related Sponsored Products                    \n",
       "27                           5.0 out of 5 stars         1 rating   \n",
       "\n",
       "                                       availability  \n",
       "0      This item will be released on June 22, 2023.  \n",
       "1                                          In Stock  \n",
       "2                                          In Stock  \n",
       "3                                                    \n",
       "4                 Only 8 left in stock - order soon  \n",
       "5                                                    \n",
       "6                                          In Stock  \n",
       "7                                          In Stock  \n",
       "8                                          In Stock  \n",
       "9                                          In Stock  \n",
       "10                                         In Stock  \n",
       "11                                         In Stock  \n",
       "12                                         In Stock  \n",
       "13  This item will be released on October 19, 2023.  \n",
       "14                                                   \n",
       "15                                    Available now  \n",
       "16                                         In Stock  \n",
       "17                Only 1 left in stock - order soon  \n",
       "18     This item will be released on July 20, 2023.  \n",
       "19               Only 4 left in stock - order soon.  \n",
       "20                                                   \n",
       "21              Only 16 left in stock - order soon.  \n",
       "22              Only 18 left in stock - order soon.  \n",
       "23                                                   \n",
       "24               Only 1 left in stock - order soon.  \n",
       "25                                         In Stock  \n",
       "26                                         In Stock  \n",
       "27                                         In Stock  "
      ]
     },
     "execution_count": 25,
     "metadata": {},
     "output_type": "execute_result"
    }
   ],
   "source": [
    "amazon_df"
   ]
  }
 ],
 "metadata": {
  "kernelspec": {
   "display_name": "Python 3",
   "language": "python",
   "name": "python3"
  },
  "language_info": {
   "codemirror_mode": {
    "name": "ipython",
    "version": 3
   },
   "file_extension": ".py",
   "mimetype": "text/x-python",
   "name": "python",
   "nbconvert_exporter": "python",
   "pygments_lexer": "ipython3",
   "version": "3.9.9"
  },
  "orig_nbformat": 4
 },
 "nbformat": 4,
 "nbformat_minor": 2
}
